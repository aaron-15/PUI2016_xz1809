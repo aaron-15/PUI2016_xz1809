{
 "cells": [
  {
   "cell_type": "markdown",
   "metadata": {},
   "source": [
    "Test if the distribution of ages is the same for:\n",
    "\n",
    "1) male and female riders\n",
    "\n",
    "2) day and night riders\n",
    "\n",
    "use 3 tests: KS, Pearson's, Spearman's. \n",
    "\n",
    "For the KS do the test with the entire dataset and with a subset 20"
   ]
  },
  {
   "cell_type": "markdown",
   "metadata": {},
   "source": [
    "I am reading in data from August 2015. It would be a good idea to use data from warmer months, since there are more riders in the warm weather and the more data the smaller the STATISTICAL NOISE. "
   ]
  },
  {
   "cell_type": "markdown",
   "metadata": {},
   "source": [
    "Null Hypothesis: The age distribution among man and woman is the same"
   ]
  },
  {
   "cell_type": "markdown",
   "metadata": {},
   "source": [
    "Alternative Hypothesis: The age distrbution is different among man and woman"
   ]
  },
  {
   "cell_type": "markdown",
   "metadata": {},
   "source": [
    "Significance Level is 0.05"
   ]
  },
  {
   "cell_type": "code",
   "execution_count": 2,
   "metadata": {
    "collapsed": false
   },
   "outputs": [
    {
     "name": "stdout",
     "output_type": "stream",
     "text": [
      "Populating the interactive namespace from numpy and matplotlib\n"
     ]
    }
   ],
   "source": [
    "import pylab as pl\n",
    "import pandas as pd\n",
    "import numpy as np\n",
    "\n",
    "%pylab inline\n",
    "\n",
    "import os\n",
    "import json\n"
   ]
  },
  {
   "cell_type": "code",
   "execution_count": 3,
   "metadata": {
    "collapsed": true
   },
   "outputs": [],
   "source": [
    "from getCitiBikeCSV import getCitiBikeCSV"
   ]
  },
  {
   "cell_type": "code",
   "execution_count": 4,
   "metadata": {
    "collapsed": false
   },
   "outputs": [
    {
     "name": "stdout",
     "output_type": "stream",
     "text": [
      "('Downloading', '201508')\n",
      "file in place, you can continue\n"
     ]
    }
   ],
   "source": [
    "datestring = '201508'\n",
    "getCitiBikeCSV(datestring)"
   ]
  },
  {
   "cell_type": "code",
   "execution_count": 5,
   "metadata": {
    "collapsed": false
   },
   "outputs": [
    {
     "data": {
      "text/html": [
       "<div>\n",
       "<table border=\"1\" class=\"dataframe\">\n",
       "  <thead>\n",
       "    <tr style=\"text-align: right;\">\n",
       "      <th></th>\n",
       "      <th>tripduration</th>\n",
       "      <th>starttime</th>\n",
       "      <th>stoptime</th>\n",
       "      <th>start station id</th>\n",
       "      <th>start station name</th>\n",
       "      <th>start station latitude</th>\n",
       "      <th>start station longitude</th>\n",
       "      <th>end station id</th>\n",
       "      <th>end station name</th>\n",
       "      <th>end station latitude</th>\n",
       "      <th>end station longitude</th>\n",
       "      <th>bikeid</th>\n",
       "      <th>usertype</th>\n",
       "      <th>birth year</th>\n",
       "      <th>gender</th>\n",
       "    </tr>\n",
       "  </thead>\n",
       "  <tbody>\n",
       "    <tr>\n",
       "      <th>0</th>\n",
       "      <td>1202</td>\n",
       "      <td>8/1/2015 00:00:04</td>\n",
       "      <td>8/1/2015 00:20:07</td>\n",
       "      <td>168</td>\n",
       "      <td>W 18 St &amp; 6 Ave</td>\n",
       "      <td>40.739713</td>\n",
       "      <td>-73.994564</td>\n",
       "      <td>385</td>\n",
       "      <td>E 55 St &amp; 2 Ave</td>\n",
       "      <td>40.757973</td>\n",
       "      <td>-73.966033</td>\n",
       "      <td>23253</td>\n",
       "      <td>Subscriber</td>\n",
       "      <td>1987.0</td>\n",
       "      <td>1</td>\n",
       "    </tr>\n",
       "    <tr>\n",
       "      <th>1</th>\n",
       "      <td>301</td>\n",
       "      <td>8/1/2015 00:00:05</td>\n",
       "      <td>8/1/2015 00:05:06</td>\n",
       "      <td>450</td>\n",
       "      <td>W 49 St &amp; 8 Ave</td>\n",
       "      <td>40.762272</td>\n",
       "      <td>-73.987882</td>\n",
       "      <td>479</td>\n",
       "      <td>9 Ave &amp; W 45 St</td>\n",
       "      <td>40.760193</td>\n",
       "      <td>-73.991255</td>\n",
       "      <td>22675</td>\n",
       "      <td>Subscriber</td>\n",
       "      <td>1951.0</td>\n",
       "      <td>2</td>\n",
       "    </tr>\n",
       "    <tr>\n",
       "      <th>2</th>\n",
       "      <td>431</td>\n",
       "      <td>8/1/2015 00:00:06</td>\n",
       "      <td>8/1/2015 00:07:18</td>\n",
       "      <td>312</td>\n",
       "      <td>Allen St &amp; E Houston St</td>\n",
       "      <td>40.722055</td>\n",
       "      <td>-73.989111</td>\n",
       "      <td>296</td>\n",
       "      <td>Division St &amp; Bowery</td>\n",
       "      <td>40.714131</td>\n",
       "      <td>-73.997047</td>\n",
       "      <td>19831</td>\n",
       "      <td>Subscriber</td>\n",
       "      <td>1985.0</td>\n",
       "      <td>1</td>\n",
       "    </tr>\n",
       "    <tr>\n",
       "      <th>3</th>\n",
       "      <td>273</td>\n",
       "      <td>8/1/2015 00:00:09</td>\n",
       "      <td>8/1/2015 00:04:43</td>\n",
       "      <td>382</td>\n",
       "      <td>University Pl &amp; E 14 St</td>\n",
       "      <td>40.734927</td>\n",
       "      <td>-73.992005</td>\n",
       "      <td>229</td>\n",
       "      <td>Great Jones St</td>\n",
       "      <td>40.727434</td>\n",
       "      <td>-73.993790</td>\n",
       "      <td>22765</td>\n",
       "      <td>Subscriber</td>\n",
       "      <td>1975.0</td>\n",
       "      <td>1</td>\n",
       "    </tr>\n",
       "    <tr>\n",
       "      <th>4</th>\n",
       "      <td>1256</td>\n",
       "      <td>8/1/2015 00:00:17</td>\n",
       "      <td>8/1/2015 00:21:13</td>\n",
       "      <td>352</td>\n",
       "      <td>W 56 St &amp; 6 Ave</td>\n",
       "      <td>40.763406</td>\n",
       "      <td>-73.977225</td>\n",
       "      <td>432</td>\n",
       "      <td>E 7 St &amp; Avenue A</td>\n",
       "      <td>40.726218</td>\n",
       "      <td>-73.983799</td>\n",
       "      <td>22127</td>\n",
       "      <td>Subscriber</td>\n",
       "      <td>1978.0</td>\n",
       "      <td>1</td>\n",
       "    </tr>\n",
       "  </tbody>\n",
       "</table>\n",
       "</div>"
      ],
      "text/plain": [
       "   tripduration          starttime           stoptime  start station id  \\\n",
       "0          1202  8/1/2015 00:00:04  8/1/2015 00:20:07               168   \n",
       "1           301  8/1/2015 00:00:05  8/1/2015 00:05:06               450   \n",
       "2           431  8/1/2015 00:00:06  8/1/2015 00:07:18               312   \n",
       "3           273  8/1/2015 00:00:09  8/1/2015 00:04:43               382   \n",
       "4          1256  8/1/2015 00:00:17  8/1/2015 00:21:13               352   \n",
       "\n",
       "        start station name  start station latitude  start station longitude  \\\n",
       "0          W 18 St & 6 Ave               40.739713               -73.994564   \n",
       "1          W 49 St & 8 Ave               40.762272               -73.987882   \n",
       "2  Allen St & E Houston St               40.722055               -73.989111   \n",
       "3  University Pl & E 14 St               40.734927               -73.992005   \n",
       "4          W 56 St & 6 Ave               40.763406               -73.977225   \n",
       "\n",
       "   end station id      end station name  end station latitude  \\\n",
       "0             385       E 55 St & 2 Ave             40.757973   \n",
       "1             479       9 Ave & W 45 St             40.760193   \n",
       "2             296  Division St & Bowery             40.714131   \n",
       "3             229        Great Jones St             40.727434   \n",
       "4             432     E 7 St & Avenue A             40.726218   \n",
       "\n",
       "   end station longitude  bikeid    usertype  birth year  gender  \n",
       "0             -73.966033   23253  Subscriber      1987.0       1  \n",
       "1             -73.991255   22675  Subscriber      1951.0       2  \n",
       "2             -73.997047   19831  Subscriber      1985.0       1  \n",
       "3             -73.993790   22765  Subscriber      1975.0       1  \n",
       "4             -73.983799   22127  Subscriber      1978.0       1  "
      ]
     },
     "execution_count": 5,
     "metadata": {},
     "output_type": "execute_result"
    }
   ],
   "source": [
    "df = pd.read_csv(os.getenv(\"PUIDATA\") + \"/\" + datestring + '-citibike-tripdata.csv')\n",
    "df.head()"
   ]
  },
  {
   "cell_type": "code",
   "execution_count": 6,
   "metadata": {
    "collapsed": false
   },
   "outputs": [
    {
     "data": {
      "text/html": [
       "<div>\n",
       "<table border=\"1\" class=\"dataframe\">\n",
       "  <thead>\n",
       "    <tr style=\"text-align: right;\">\n",
       "      <th></th>\n",
       "      <th>tripduration</th>\n",
       "      <th>starttime</th>\n",
       "      <th>stoptime</th>\n",
       "      <th>start station id</th>\n",
       "      <th>start station name</th>\n",
       "      <th>start station latitude</th>\n",
       "      <th>start station longitude</th>\n",
       "      <th>end station id</th>\n",
       "      <th>end station name</th>\n",
       "      <th>end station latitude</th>\n",
       "      <th>end station longitude</th>\n",
       "      <th>bikeid</th>\n",
       "      <th>usertype</th>\n",
       "      <th>birth year</th>\n",
       "      <th>gender</th>\n",
       "      <th>date</th>\n",
       "    </tr>\n",
       "  </thead>\n",
       "  <tbody>\n",
       "    <tr>\n",
       "      <th>0</th>\n",
       "      <td>1202</td>\n",
       "      <td>8/1/2015 00:00:04</td>\n",
       "      <td>8/1/2015 00:20:07</td>\n",
       "      <td>168</td>\n",
       "      <td>W 18 St &amp; 6 Ave</td>\n",
       "      <td>40.739713</td>\n",
       "      <td>-73.994564</td>\n",
       "      <td>385</td>\n",
       "      <td>E 55 St &amp; 2 Ave</td>\n",
       "      <td>40.757973</td>\n",
       "      <td>-73.966033</td>\n",
       "      <td>23253</td>\n",
       "      <td>Subscriber</td>\n",
       "      <td>1987.0</td>\n",
       "      <td>1</td>\n",
       "      <td>2015-08-01 00:00:04</td>\n",
       "    </tr>\n",
       "    <tr>\n",
       "      <th>1</th>\n",
       "      <td>301</td>\n",
       "      <td>8/1/2015 00:00:05</td>\n",
       "      <td>8/1/2015 00:05:06</td>\n",
       "      <td>450</td>\n",
       "      <td>W 49 St &amp; 8 Ave</td>\n",
       "      <td>40.762272</td>\n",
       "      <td>-73.987882</td>\n",
       "      <td>479</td>\n",
       "      <td>9 Ave &amp; W 45 St</td>\n",
       "      <td>40.760193</td>\n",
       "      <td>-73.991255</td>\n",
       "      <td>22675</td>\n",
       "      <td>Subscriber</td>\n",
       "      <td>1951.0</td>\n",
       "      <td>2</td>\n",
       "      <td>2015-08-01 00:00:05</td>\n",
       "    </tr>\n",
       "    <tr>\n",
       "      <th>2</th>\n",
       "      <td>431</td>\n",
       "      <td>8/1/2015 00:00:06</td>\n",
       "      <td>8/1/2015 00:07:18</td>\n",
       "      <td>312</td>\n",
       "      <td>Allen St &amp; E Houston St</td>\n",
       "      <td>40.722055</td>\n",
       "      <td>-73.989111</td>\n",
       "      <td>296</td>\n",
       "      <td>Division St &amp; Bowery</td>\n",
       "      <td>40.714131</td>\n",
       "      <td>-73.997047</td>\n",
       "      <td>19831</td>\n",
       "      <td>Subscriber</td>\n",
       "      <td>1985.0</td>\n",
       "      <td>1</td>\n",
       "      <td>2015-08-01 00:00:06</td>\n",
       "    </tr>\n",
       "    <tr>\n",
       "      <th>3</th>\n",
       "      <td>273</td>\n",
       "      <td>8/1/2015 00:00:09</td>\n",
       "      <td>8/1/2015 00:04:43</td>\n",
       "      <td>382</td>\n",
       "      <td>University Pl &amp; E 14 St</td>\n",
       "      <td>40.734927</td>\n",
       "      <td>-73.992005</td>\n",
       "      <td>229</td>\n",
       "      <td>Great Jones St</td>\n",
       "      <td>40.727434</td>\n",
       "      <td>-73.993790</td>\n",
       "      <td>22765</td>\n",
       "      <td>Subscriber</td>\n",
       "      <td>1975.0</td>\n",
       "      <td>1</td>\n",
       "      <td>2015-08-01 00:00:09</td>\n",
       "    </tr>\n",
       "    <tr>\n",
       "      <th>4</th>\n",
       "      <td>1256</td>\n",
       "      <td>8/1/2015 00:00:17</td>\n",
       "      <td>8/1/2015 00:21:13</td>\n",
       "      <td>352</td>\n",
       "      <td>W 56 St &amp; 6 Ave</td>\n",
       "      <td>40.763406</td>\n",
       "      <td>-73.977225</td>\n",
       "      <td>432</td>\n",
       "      <td>E 7 St &amp; Avenue A</td>\n",
       "      <td>40.726218</td>\n",
       "      <td>-73.983799</td>\n",
       "      <td>22127</td>\n",
       "      <td>Subscriber</td>\n",
       "      <td>1978.0</td>\n",
       "      <td>1</td>\n",
       "      <td>2015-08-01 00:00:17</td>\n",
       "    </tr>\n",
       "  </tbody>\n",
       "</table>\n",
       "</div>"
      ],
      "text/plain": [
       "   tripduration          starttime           stoptime  start station id  \\\n",
       "0          1202  8/1/2015 00:00:04  8/1/2015 00:20:07               168   \n",
       "1           301  8/1/2015 00:00:05  8/1/2015 00:05:06               450   \n",
       "2           431  8/1/2015 00:00:06  8/1/2015 00:07:18               312   \n",
       "3           273  8/1/2015 00:00:09  8/1/2015 00:04:43               382   \n",
       "4          1256  8/1/2015 00:00:17  8/1/2015 00:21:13               352   \n",
       "\n",
       "        start station name  start station latitude  start station longitude  \\\n",
       "0          W 18 St & 6 Ave               40.739713               -73.994564   \n",
       "1          W 49 St & 8 Ave               40.762272               -73.987882   \n",
       "2  Allen St & E Houston St               40.722055               -73.989111   \n",
       "3  University Pl & E 14 St               40.734927               -73.992005   \n",
       "4          W 56 St & 6 Ave               40.763406               -73.977225   \n",
       "\n",
       "   end station id      end station name  end station latitude  \\\n",
       "0             385       E 55 St & 2 Ave             40.757973   \n",
       "1             479       9 Ave & W 45 St             40.760193   \n",
       "2             296  Division St & Bowery             40.714131   \n",
       "3             229        Great Jones St             40.727434   \n",
       "4             432     E 7 St & Avenue A             40.726218   \n",
       "\n",
       "   end station longitude  bikeid    usertype  birth year  gender  \\\n",
       "0             -73.966033   23253  Subscriber      1987.0       1   \n",
       "1             -73.991255   22675  Subscriber      1951.0       2   \n",
       "2             -73.997047   19831  Subscriber      1985.0       1   \n",
       "3             -73.993790   22765  Subscriber      1975.0       1   \n",
       "4             -73.983799   22127  Subscriber      1978.0       1   \n",
       "\n",
       "                 date  \n",
       "0 2015-08-01 00:00:04  \n",
       "1 2015-08-01 00:00:05  \n",
       "2 2015-08-01 00:00:06  \n",
       "3 2015-08-01 00:00:09  \n",
       "4 2015-08-01 00:00:17  "
      ]
     },
     "execution_count": 6,
     "metadata": {},
     "output_type": "execute_result"
    }
   ],
   "source": [
    "df['date'] = pd.to_datetime(df['starttime'])\n",
    "df.head()"
   ]
  },
  {
   "cell_type": "code",
   "execution_count": 7,
   "metadata": {
    "collapsed": false
   },
   "outputs": [
    {
     "data": {
      "text/plain": [
       "Index([u'tripduration', u'starttime', u'stoptime', u'start station id',\n",
       "       u'start station name', u'start station latitude',\n",
       "       u'start station longitude', u'end station id', u'end station name',\n",
       "       u'end station latitude', u'end station longitude', u'bikeid',\n",
       "       u'usertype', u'birth year', u'gender', u'date'],\n",
       "      dtype='object')"
      ]
     },
     "execution_count": 7,
     "metadata": {},
     "output_type": "execute_result"
    }
   ],
   "source": [
    "df.columns"
   ]
  },
  {
   "cell_type": "markdown",
   "metadata": {
    "collapsed": true
   },
   "source": [
    "BY GENDER\n",
    "\n",
    "\n",
    "splitting data by gender and extracting the age happens in the cell below"
   ]
  },
  {
   "cell_type": "code",
   "execution_count": 8,
   "metadata": {
    "collapsed": true
   },
   "outputs": [],
   "source": [
    "#df is the dataframe where the content of the csv file is stored\n",
    "df['ageM'] = 2015 - df['birth year'][(df['usertype'] == 'Subscriber') & (df['gender'] == 1)]\n",
    "df['ageF'] = 2015 - df['birth year'][(df['usertype'] == 'Subscriber') & (df['gender'] == 2)]"
   ]
  },
  {
   "cell_type": "code",
   "execution_count": 12,
   "metadata": {
    "collapsed": false
   },
   "outputs": [
    {
     "data": {
      "text/html": [
       "<div>\n",
       "<table border=\"1\" class=\"dataframe\">\n",
       "  <thead>\n",
       "    <tr style=\"text-align: right;\">\n",
       "      <th></th>\n",
       "      <th>tripduration</th>\n",
       "      <th>starttime</th>\n",
       "      <th>stoptime</th>\n",
       "      <th>start station id</th>\n",
       "      <th>start station name</th>\n",
       "      <th>start station latitude</th>\n",
       "      <th>start station longitude</th>\n",
       "      <th>end station id</th>\n",
       "      <th>end station name</th>\n",
       "      <th>end station latitude</th>\n",
       "      <th>end station longitude</th>\n",
       "      <th>bikeid</th>\n",
       "      <th>usertype</th>\n",
       "      <th>birth year</th>\n",
       "      <th>gender</th>\n",
       "      <th>date</th>\n",
       "      <th>ageM</th>\n",
       "      <th>ageF</th>\n",
       "    </tr>\n",
       "  </thead>\n",
       "  <tbody>\n",
       "    <tr>\n",
       "      <th>0</th>\n",
       "      <td>1202</td>\n",
       "      <td>8/1/2015 00:00:04</td>\n",
       "      <td>8/1/2015 00:20:07</td>\n",
       "      <td>168</td>\n",
       "      <td>W 18 St &amp; 6 Ave</td>\n",
       "      <td>40.739713</td>\n",
       "      <td>-73.994564</td>\n",
       "      <td>385</td>\n",
       "      <td>E 55 St &amp; 2 Ave</td>\n",
       "      <td>40.757973</td>\n",
       "      <td>-73.966033</td>\n",
       "      <td>23253</td>\n",
       "      <td>Subscriber</td>\n",
       "      <td>1987.0</td>\n",
       "      <td>1</td>\n",
       "      <td>2015-08-01 00:00:04</td>\n",
       "      <td>28.0</td>\n",
       "      <td>NaN</td>\n",
       "    </tr>\n",
       "    <tr>\n",
       "      <th>1</th>\n",
       "      <td>301</td>\n",
       "      <td>8/1/2015 00:00:05</td>\n",
       "      <td>8/1/2015 00:05:06</td>\n",
       "      <td>450</td>\n",
       "      <td>W 49 St &amp; 8 Ave</td>\n",
       "      <td>40.762272</td>\n",
       "      <td>-73.987882</td>\n",
       "      <td>479</td>\n",
       "      <td>9 Ave &amp; W 45 St</td>\n",
       "      <td>40.760193</td>\n",
       "      <td>-73.991255</td>\n",
       "      <td>22675</td>\n",
       "      <td>Subscriber</td>\n",
       "      <td>1951.0</td>\n",
       "      <td>2</td>\n",
       "      <td>2015-08-01 00:00:05</td>\n",
       "      <td>NaN</td>\n",
       "      <td>64.0</td>\n",
       "    </tr>\n",
       "    <tr>\n",
       "      <th>2</th>\n",
       "      <td>431</td>\n",
       "      <td>8/1/2015 00:00:06</td>\n",
       "      <td>8/1/2015 00:07:18</td>\n",
       "      <td>312</td>\n",
       "      <td>Allen St &amp; E Houston St</td>\n",
       "      <td>40.722055</td>\n",
       "      <td>-73.989111</td>\n",
       "      <td>296</td>\n",
       "      <td>Division St &amp; Bowery</td>\n",
       "      <td>40.714131</td>\n",
       "      <td>-73.997047</td>\n",
       "      <td>19831</td>\n",
       "      <td>Subscriber</td>\n",
       "      <td>1985.0</td>\n",
       "      <td>1</td>\n",
       "      <td>2015-08-01 00:00:06</td>\n",
       "      <td>30.0</td>\n",
       "      <td>NaN</td>\n",
       "    </tr>\n",
       "    <tr>\n",
       "      <th>3</th>\n",
       "      <td>273</td>\n",
       "      <td>8/1/2015 00:00:09</td>\n",
       "      <td>8/1/2015 00:04:43</td>\n",
       "      <td>382</td>\n",
       "      <td>University Pl &amp; E 14 St</td>\n",
       "      <td>40.734927</td>\n",
       "      <td>-73.992005</td>\n",
       "      <td>229</td>\n",
       "      <td>Great Jones St</td>\n",
       "      <td>40.727434</td>\n",
       "      <td>-73.993790</td>\n",
       "      <td>22765</td>\n",
       "      <td>Subscriber</td>\n",
       "      <td>1975.0</td>\n",
       "      <td>1</td>\n",
       "      <td>2015-08-01 00:00:09</td>\n",
       "      <td>40.0</td>\n",
       "      <td>NaN</td>\n",
       "    </tr>\n",
       "    <tr>\n",
       "      <th>4</th>\n",
       "      <td>1256</td>\n",
       "      <td>8/1/2015 00:00:17</td>\n",
       "      <td>8/1/2015 00:21:13</td>\n",
       "      <td>352</td>\n",
       "      <td>W 56 St &amp; 6 Ave</td>\n",
       "      <td>40.763406</td>\n",
       "      <td>-73.977225</td>\n",
       "      <td>432</td>\n",
       "      <td>E 7 St &amp; Avenue A</td>\n",
       "      <td>40.726218</td>\n",
       "      <td>-73.983799</td>\n",
       "      <td>22127</td>\n",
       "      <td>Subscriber</td>\n",
       "      <td>1978.0</td>\n",
       "      <td>1</td>\n",
       "      <td>2015-08-01 00:00:17</td>\n",
       "      <td>37.0</td>\n",
       "      <td>NaN</td>\n",
       "    </tr>\n",
       "  </tbody>\n",
       "</table>\n",
       "</div>"
      ],
      "text/plain": [
       "   tripduration          starttime           stoptime  start station id  \\\n",
       "0          1202  8/1/2015 00:00:04  8/1/2015 00:20:07               168   \n",
       "1           301  8/1/2015 00:00:05  8/1/2015 00:05:06               450   \n",
       "2           431  8/1/2015 00:00:06  8/1/2015 00:07:18               312   \n",
       "3           273  8/1/2015 00:00:09  8/1/2015 00:04:43               382   \n",
       "4          1256  8/1/2015 00:00:17  8/1/2015 00:21:13               352   \n",
       "\n",
       "        start station name  start station latitude  start station longitude  \\\n",
       "0          W 18 St & 6 Ave               40.739713               -73.994564   \n",
       "1          W 49 St & 8 Ave               40.762272               -73.987882   \n",
       "2  Allen St & E Houston St               40.722055               -73.989111   \n",
       "3  University Pl & E 14 St               40.734927               -73.992005   \n",
       "4          W 56 St & 6 Ave               40.763406               -73.977225   \n",
       "\n",
       "   end station id      end station name  end station latitude  \\\n",
       "0             385       E 55 St & 2 Ave             40.757973   \n",
       "1             479       9 Ave & W 45 St             40.760193   \n",
       "2             296  Division St & Bowery             40.714131   \n",
       "3             229        Great Jones St             40.727434   \n",
       "4             432     E 7 St & Avenue A             40.726218   \n",
       "\n",
       "   end station longitude  bikeid    usertype  birth year  gender  \\\n",
       "0             -73.966033   23253  Subscriber      1987.0       1   \n",
       "1             -73.991255   22675  Subscriber      1951.0       2   \n",
       "2             -73.997047   19831  Subscriber      1985.0       1   \n",
       "3             -73.993790   22765  Subscriber      1975.0       1   \n",
       "4             -73.983799   22127  Subscriber      1978.0       1   \n",
       "\n",
       "                 date  ageM  ageF  \n",
       "0 2015-08-01 00:00:04  28.0   NaN  \n",
       "1 2015-08-01 00:00:05   NaN  64.0  \n",
       "2 2015-08-01 00:00:06  30.0   NaN  \n",
       "3 2015-08-01 00:00:09  40.0   NaN  \n",
       "4 2015-08-01 00:00:17  37.0   NaN  "
      ]
     },
     "execution_count": 12,
     "metadata": {},
     "output_type": "execute_result"
    }
   ],
   "source": [
    "data = df.copy()\n",
    "data.head()"
   ]
  },
  {
   "cell_type": "code",
   "execution_count": 14,
   "metadata": {
    "collapsed": false
   },
   "outputs": [
    {
     "data": {
      "text/html": [
       "<div>\n",
       "<table border=\"1\" class=\"dataframe\">\n",
       "  <thead>\n",
       "    <tr style=\"text-align: right;\">\n",
       "      <th></th>\n",
       "      <th>tripduration</th>\n",
       "      <th>start station id</th>\n",
       "      <th>start station name</th>\n",
       "      <th>start station latitude</th>\n",
       "      <th>start station longitude</th>\n",
       "      <th>end station id</th>\n",
       "      <th>end station name</th>\n",
       "      <th>end station latitude</th>\n",
       "      <th>end station longitude</th>\n",
       "      <th>bikeid</th>\n",
       "      <th>birth year</th>\n",
       "      <th>gender</th>\n",
       "      <th>ageM</th>\n",
       "      <th>ageF</th>\n",
       "    </tr>\n",
       "  </thead>\n",
       "  <tbody>\n",
       "    <tr>\n",
       "      <th>0</th>\n",
       "      <td>1202</td>\n",
       "      <td>168</td>\n",
       "      <td>W 18 St &amp; 6 Ave</td>\n",
       "      <td>40.739713</td>\n",
       "      <td>-73.994564</td>\n",
       "      <td>385</td>\n",
       "      <td>E 55 St &amp; 2 Ave</td>\n",
       "      <td>40.757973</td>\n",
       "      <td>-73.966033</td>\n",
       "      <td>23253</td>\n",
       "      <td>1987.0</td>\n",
       "      <td>1</td>\n",
       "      <td>28.0</td>\n",
       "      <td>NaN</td>\n",
       "    </tr>\n",
       "    <tr>\n",
       "      <th>1</th>\n",
       "      <td>301</td>\n",
       "      <td>450</td>\n",
       "      <td>W 49 St &amp; 8 Ave</td>\n",
       "      <td>40.762272</td>\n",
       "      <td>-73.987882</td>\n",
       "      <td>479</td>\n",
       "      <td>9 Ave &amp; W 45 St</td>\n",
       "      <td>40.760193</td>\n",
       "      <td>-73.991255</td>\n",
       "      <td>22675</td>\n",
       "      <td>1951.0</td>\n",
       "      <td>2</td>\n",
       "      <td>NaN</td>\n",
       "      <td>64.0</td>\n",
       "    </tr>\n",
       "    <tr>\n",
       "      <th>2</th>\n",
       "      <td>431</td>\n",
       "      <td>312</td>\n",
       "      <td>Allen St &amp; E Houston St</td>\n",
       "      <td>40.722055</td>\n",
       "      <td>-73.989111</td>\n",
       "      <td>296</td>\n",
       "      <td>Division St &amp; Bowery</td>\n",
       "      <td>40.714131</td>\n",
       "      <td>-73.997047</td>\n",
       "      <td>19831</td>\n",
       "      <td>1985.0</td>\n",
       "      <td>1</td>\n",
       "      <td>30.0</td>\n",
       "      <td>NaN</td>\n",
       "    </tr>\n",
       "    <tr>\n",
       "      <th>3</th>\n",
       "      <td>273</td>\n",
       "      <td>382</td>\n",
       "      <td>University Pl &amp; E 14 St</td>\n",
       "      <td>40.734927</td>\n",
       "      <td>-73.992005</td>\n",
       "      <td>229</td>\n",
       "      <td>Great Jones St</td>\n",
       "      <td>40.727434</td>\n",
       "      <td>-73.993790</td>\n",
       "      <td>22765</td>\n",
       "      <td>1975.0</td>\n",
       "      <td>1</td>\n",
       "      <td>40.0</td>\n",
       "      <td>NaN</td>\n",
       "    </tr>\n",
       "    <tr>\n",
       "      <th>4</th>\n",
       "      <td>1256</td>\n",
       "      <td>352</td>\n",
       "      <td>W 56 St &amp; 6 Ave</td>\n",
       "      <td>40.763406</td>\n",
       "      <td>-73.977225</td>\n",
       "      <td>432</td>\n",
       "      <td>E 7 St &amp; Avenue A</td>\n",
       "      <td>40.726218</td>\n",
       "      <td>-73.983799</td>\n",
       "      <td>22127</td>\n",
       "      <td>1978.0</td>\n",
       "      <td>1</td>\n",
       "      <td>37.0</td>\n",
       "      <td>NaN</td>\n",
       "    </tr>\n",
       "  </tbody>\n",
       "</table>\n",
       "</div>"
      ],
      "text/plain": [
       "   tripduration  start station id       start station name  \\\n",
       "0          1202               168          W 18 St & 6 Ave   \n",
       "1           301               450          W 49 St & 8 Ave   \n",
       "2           431               312  Allen St & E Houston St   \n",
       "3           273               382  University Pl & E 14 St   \n",
       "4          1256               352          W 56 St & 6 Ave   \n",
       "\n",
       "   start station latitude  start station longitude  end station id  \\\n",
       "0               40.739713               -73.994564             385   \n",
       "1               40.762272               -73.987882             479   \n",
       "2               40.722055               -73.989111             296   \n",
       "3               40.734927               -73.992005             229   \n",
       "4               40.763406               -73.977225             432   \n",
       "\n",
       "       end station name  end station latitude  end station longitude  bikeid  \\\n",
       "0       E 55 St & 2 Ave             40.757973             -73.966033   23253   \n",
       "1       9 Ave & W 45 St             40.760193             -73.991255   22675   \n",
       "2  Division St & Bowery             40.714131             -73.997047   19831   \n",
       "3        Great Jones St             40.727434             -73.993790   22765   \n",
       "4     E 7 St & Avenue A             40.726218             -73.983799   22127   \n",
       "\n",
       "   birth year  gender  ageM  ageF  \n",
       "0      1987.0       1  28.0   NaN  \n",
       "1      1951.0       2   NaN  64.0  \n",
       "2      1985.0       1  30.0   NaN  \n",
       "3      1975.0       1  40.0   NaN  \n",
       "4      1978.0       1  37.0   NaN  "
      ]
     },
     "execution_count": 14,
     "metadata": {},
     "output_type": "execute_result"
    }
   ],
   "source": [
    "#dropping some data I no longer need\n",
    "#... your code here...\n",
    "data = data.drop(['starttime','stoptime','date','usertype'], axis=1)\n",
    "data.head()"
   ]
  },
  {
   "cell_type": "code",
   "execution_count": 15,
   "metadata": {
    "collapsed": false
   },
   "outputs": [
    {
     "name": "stderr",
     "output_type": "stream",
     "text": [
      "/opt/rh/anaconda/root/envs/PUI2016_Python2/lib/python2.7/site-packages/numpy/lib/function_base.py:3834: RuntimeWarning: Invalid value encountered in percentile\n",
      "  RuntimeWarning)\n"
     ]
    },
    {
     "data": {
      "text/html": [
       "<div>\n",
       "<table border=\"1\" class=\"dataframe\">\n",
       "  <thead>\n",
       "    <tr style=\"text-align: right;\">\n",
       "      <th></th>\n",
       "      <th>tripduration</th>\n",
       "      <th>start station id</th>\n",
       "      <th>start station latitude</th>\n",
       "      <th>start station longitude</th>\n",
       "      <th>end station id</th>\n",
       "      <th>end station latitude</th>\n",
       "      <th>end station longitude</th>\n",
       "      <th>bikeid</th>\n",
       "      <th>birth year</th>\n",
       "      <th>gender</th>\n",
       "      <th>ageM</th>\n",
       "      <th>ageF</th>\n",
       "    </tr>\n",
       "  </thead>\n",
       "  <tbody>\n",
       "    <tr>\n",
       "      <th>count</th>\n",
       "      <td>1.179044e+06</td>\n",
       "      <td>1.179044e+06</td>\n",
       "      <td>1.179044e+06</td>\n",
       "      <td>1.179044e+06</td>\n",
       "      <td>1.179044e+06</td>\n",
       "      <td>1.179044e+06</td>\n",
       "      <td>1.179044e+06</td>\n",
       "      <td>1.179044e+06</td>\n",
       "      <td>958043.000000</td>\n",
       "      <td>1.179044e+06</td>\n",
       "      <td>720722.000000</td>\n",
       "      <td>235991.000000</td>\n",
       "    </tr>\n",
       "    <tr>\n",
       "      <th>mean</th>\n",
       "      <td>1.017479e+03</td>\n",
       "      <td>5.186902e+02</td>\n",
       "      <td>4.073441e+01</td>\n",
       "      <td>-7.399075e+01</td>\n",
       "      <td>5.179453e+02</td>\n",
       "      <td>4.073411e+01</td>\n",
       "      <td>-7.399082e+01</td>\n",
       "      <td>1.993056e+04</td>\n",
       "      <td>1977.144026</td>\n",
       "      <td>1.011590e+00</td>\n",
       "      <td>38.302869</td>\n",
       "      <td>36.454365</td>\n",
       "    </tr>\n",
       "    <tr>\n",
       "      <th>std</th>\n",
       "      <td>7.820898e+03</td>\n",
       "      <td>5.472304e+02</td>\n",
       "      <td>1.957090e-02</td>\n",
       "      <td>1.356218e-02</td>\n",
       "      <td>5.478115e+02</td>\n",
       "      <td>1.961745e-02</td>\n",
       "      <td>1.358079e-02</td>\n",
       "      <td>2.875918e+03</td>\n",
       "      <td>11.337429</td>\n",
       "      <td>6.233660e-01</td>\n",
       "      <td>11.352888</td>\n",
       "      <td>11.022477</td>\n",
       "    </tr>\n",
       "    <tr>\n",
       "      <th>min</th>\n",
       "      <td>6.000000e+01</td>\n",
       "      <td>7.200000e+01</td>\n",
       "      <td>4.067891e+01</td>\n",
       "      <td>-7.401713e+01</td>\n",
       "      <td>7.200000e+01</td>\n",
       "      <td>4.067891e+01</td>\n",
       "      <td>-7.401713e+01</td>\n",
       "      <td>1.452900e+04</td>\n",
       "      <td>1885.000000</td>\n",
       "      <td>0.000000e+00</td>\n",
       "      <td>16.000000</td>\n",
       "      <td>16.000000</td>\n",
       "    </tr>\n",
       "    <tr>\n",
       "      <th>25%</th>\n",
       "      <td>4.150000e+02</td>\n",
       "      <td>3.070000e+02</td>\n",
       "      <td>4.072043e+01</td>\n",
       "      <td>-7.400150e+01</td>\n",
       "      <td>3.070000e+02</td>\n",
       "      <td>4.072043e+01</td>\n",
       "      <td>-7.400155e+01</td>\n",
       "      <td>1.738200e+04</td>\n",
       "      <td>NaN</td>\n",
       "      <td>1.000000e+00</td>\n",
       "      <td>NaN</td>\n",
       "      <td>NaN</td>\n",
       "    </tr>\n",
       "    <tr>\n",
       "      <th>50%</th>\n",
       "      <td>6.800000e+02</td>\n",
       "      <td>4.170000e+02</td>\n",
       "      <td>4.073588e+01</td>\n",
       "      <td>-7.399093e+01</td>\n",
       "      <td>4.150000e+02</td>\n",
       "      <td>4.073535e+01</td>\n",
       "      <td>-7.399093e+01</td>\n",
       "      <td>2.026800e+04</td>\n",
       "      <td>NaN</td>\n",
       "      <td>1.000000e+00</td>\n",
       "      <td>NaN</td>\n",
       "      <td>NaN</td>\n",
       "    </tr>\n",
       "    <tr>\n",
       "      <th>75%</th>\n",
       "      <td>1.145000e+03</td>\n",
       "      <td>4.960000e+02</td>\n",
       "      <td>4.075002e+01</td>\n",
       "      <td>-7.398192e+01</td>\n",
       "      <td>4.940000e+02</td>\n",
       "      <td>4.074916e+01</td>\n",
       "      <td>-7.398192e+01</td>\n",
       "      <td>2.253600e+04</td>\n",
       "      <td>NaN</td>\n",
       "      <td>1.000000e+00</td>\n",
       "      <td>NaN</td>\n",
       "      <td>NaN</td>\n",
       "    </tr>\n",
       "    <tr>\n",
       "      <th>max</th>\n",
       "      <td>2.842280e+06</td>\n",
       "      <td>3.224000e+03</td>\n",
       "      <td>4.077164e+01</td>\n",
       "      <td>-7.392989e+01</td>\n",
       "      <td>3.224000e+03</td>\n",
       "      <td>4.077706e+01</td>\n",
       "      <td>-7.392989e+01</td>\n",
       "      <td>2.435600e+04</td>\n",
       "      <td>1999.000000</td>\n",
       "      <td>2.000000e+00</td>\n",
       "      <td>130.000000</td>\n",
       "      <td>90.000000</td>\n",
       "    </tr>\n",
       "  </tbody>\n",
       "</table>\n",
       "</div>"
      ],
      "text/plain": [
       "       tripduration  start station id  start station latitude  \\\n",
       "count  1.179044e+06      1.179044e+06            1.179044e+06   \n",
       "mean   1.017479e+03      5.186902e+02            4.073441e+01   \n",
       "std    7.820898e+03      5.472304e+02            1.957090e-02   \n",
       "min    6.000000e+01      7.200000e+01            4.067891e+01   \n",
       "25%    4.150000e+02      3.070000e+02            4.072043e+01   \n",
       "50%    6.800000e+02      4.170000e+02            4.073588e+01   \n",
       "75%    1.145000e+03      4.960000e+02            4.075002e+01   \n",
       "max    2.842280e+06      3.224000e+03            4.077164e+01   \n",
       "\n",
       "       start station longitude  end station id  end station latitude  \\\n",
       "count             1.179044e+06    1.179044e+06          1.179044e+06   \n",
       "mean             -7.399075e+01    5.179453e+02          4.073411e+01   \n",
       "std               1.356218e-02    5.478115e+02          1.961745e-02   \n",
       "min              -7.401713e+01    7.200000e+01          4.067891e+01   \n",
       "25%              -7.400150e+01    3.070000e+02          4.072043e+01   \n",
       "50%              -7.399093e+01    4.150000e+02          4.073535e+01   \n",
       "75%              -7.398192e+01    4.940000e+02          4.074916e+01   \n",
       "max              -7.392989e+01    3.224000e+03          4.077706e+01   \n",
       "\n",
       "       end station longitude        bikeid     birth year        gender  \\\n",
       "count           1.179044e+06  1.179044e+06  958043.000000  1.179044e+06   \n",
       "mean           -7.399082e+01  1.993056e+04    1977.144026  1.011590e+00   \n",
       "std             1.358079e-02  2.875918e+03      11.337429  6.233660e-01   \n",
       "min            -7.401713e+01  1.452900e+04    1885.000000  0.000000e+00   \n",
       "25%            -7.400155e+01  1.738200e+04            NaN  1.000000e+00   \n",
       "50%            -7.399093e+01  2.026800e+04            NaN  1.000000e+00   \n",
       "75%            -7.398192e+01  2.253600e+04            NaN  1.000000e+00   \n",
       "max            -7.392989e+01  2.435600e+04    1999.000000  2.000000e+00   \n",
       "\n",
       "                ageM           ageF  \n",
       "count  720722.000000  235991.000000  \n",
       "mean       38.302869      36.454365  \n",
       "std        11.352888      11.022477  \n",
       "min        16.000000      16.000000  \n",
       "25%              NaN            NaN  \n",
       "50%              NaN            NaN  \n",
       "75%              NaN            NaN  \n",
       "max       130.000000      90.000000  "
      ]
     },
     "execution_count": 15,
     "metadata": {},
     "output_type": "execute_result"
    }
   ],
   "source": [
    "data.describe()"
   ]
  },
  {
   "cell_type": "code",
   "execution_count": 20,
   "metadata": {
    "collapsed": true
   },
   "outputs": [],
   "source": [
    "# dropping NaN values\n",
    "data['ageM'].dropna(inplace= True)\n",
    "data['ageF'].dropna(inplace= True)"
   ]
  },
  {
   "cell_type": "code",
   "execution_count": 21,
   "metadata": {
    "collapsed": false
   },
   "outputs": [
    {
     "data": {
      "text/plain": [
       "<matplotlib.text.Text at 0x7f89e6ff8b10>"
      ]
     },
     "execution_count": 21,
     "metadata": {},
     "output_type": "execute_result"
    },
    {
     "data": {
      "image/png": "[encoded data removed]",
      "text/plain": [
       "<matplotlib.figure.Figure at 0x7f89e9d03550>"
      ]
     },
     "metadata": {},
     "output_type": "display_data"
    },
    {
     "data": {
      "image/png": "[encoded data removed]",
      "text/plain": [
       "<matplotlib.figure.Figure at 0x7f89e9d03e50>"
      ]
     },
     "metadata": {},
     "output_type": "display_data"
    }
   ],
   "source": [
    "# plotting histogramswith pandas is a bitdifferent than with pylab\n",
    "# this is a VERY USEFUL syntaxfor you to knonw!\n",
    "bins = np.arange(10, 99, 5)\n",
    "axM = data.ageM.groupby(pd.cut(df.ageM, bins)).agg([count_nonzero]).plot(kind='bar', \n",
    "                                                                legend=False)\n",
    "axM.set_title(\"male riders\")\n",
    "axF =data.ageF.groupby(pd.cut(df.ageF, bins)).agg([count_nonzero]).plot(kind='bar',\n",
    "                                                                legend=False)\n",
    "axF.set_title(\"female riders\")"
   ]
  },
  {
   "cell_type": "markdown",
   "metadata": {},
   "source": [
    "Figure 1: histogrammed distribution of riders' ages by gender"
   ]
  },
  {
   "cell_type": "code",
   "execution_count": 22,
   "metadata": {
    "collapsed": false
   },
   "outputs": [
    {
     "name": "stdout",
     "output_type": "stream",
     "text": [
      "          count_nonzero\n",
      "ageM                   \n",
      "(10, 15]       0.000000\n",
      "(15, 20]       0.000755\n",
      "(20, 25]       0.031607\n",
      "(25, 30]       0.079080\n",
      "(30, 35]       0.086715\n",
      "(35, 40]       0.065389\n",
      "(40, 45]       0.041519\n",
      "(45, 50]       0.025401\n",
      "(50, 55]       0.014859\n",
      "(55, 60]       0.012054\n",
      "(60, 65]       0.006234\n",
      "(65, 70]       0.000976\n",
      "(70, 75]       0.000055\n",
      "(75, 80]       0.000345\n",
      "(80, 85]       0.000086\n",
      "(85, 90]       0.000001\n",
      "(90, 95]       0.000000\n"
     ]
    },
    {
     "data": {
      "text/plain": [
       "<matplotlib.legend.Legend at 0x7f89e6e985d0>"
      ]
     },
     "execution_count": 22,
     "metadata": {},
     "output_type": "execute_result"
    },
    {
     "data": {
      "image/png": "[encoded data removed]",
      "text/plain": [
       "<matplotlib.figure.Figure at 0x7f89e9d38a50>"
      ]
     },
     "metadata": {},
     "output_type": "display_data"
    }
   ],
   "source": [
    "#print df.ageS, df.ageS.cumsum()\n",
    "\n",
    "csM=data.ageM.groupby(pd.cut(df.ageM, bins)).agg([count_nonzero]).cumsum()\n",
    "\n",
    "csF=data.ageF.groupby(pd.cut(df.ageF, bins)).agg([count_nonzero]).cumsum()\n",
    "\n",
    "print (np.abs(csM / csM.max()-csF / csF.max()))\n",
    "\n",
    "pl.plot(bins[:-1] + 5, csM / csM.max(), label = \"M\")\n",
    "pl.plot(bins[:-1] + 5, csF / csF.max(), label = \"F\")\n",
    "pl.plot(bins[:-1] + 5, np.sqrt(csF / csF.max() - csM / csM.max())**2, 'k-',\n",
    "        label = \"difference\")\n",
    "pl.xlabel(\"Age\")\n",
    "pl.ylabel(\"Normalized Cumulative Number\")\n",
    "pl.legend()"
   ]
  },
  {
   "cell_type": "markdown",
   "metadata": {},
   "source": [
    "Figure 2: the cumulative distribution of CitiBike riders' ages by gender"
   ]
  },
  {
   "cell_type": "code",
   "execution_count": 25,
   "metadata": {
    "collapsed": false
   },
   "outputs": [
    {
     "name": "stdout",
     "output_type": "stream",
     "text": [
      "Ks_2sampResult(statistic=0.11573706560792094, pvalue=0.0)\n"
     ]
    }
   ],
   "source": [
    "import scipy.stats\n",
    "ks = scipy.stats.ks_2samp(df.ageM, df.ageF)\n",
    "print ks"
   ]
  },
  {
   "cell_type": "code",
   "execution_count": 26,
   "metadata": {
    "collapsed": true
   },
   "outputs": [],
   "source": [
    "## KS test is used to decide whether two group has same distribution.\n",
    "## Since our KS test result, the p value nearly equals zero, we may conclude that in August,\n",
    "## or at least in hot month, the null hypothesis should be rejected,\n",
    "## so the age distrbution among gender is different"
   ]
  },
  {
   "cell_type": "code",
   "execution_count": 29,
   "metadata": {
    "collapsed": false
   },
   "outputs": [
    {
     "data": {
      "image/png": "[encoded data removed]",
      "text/plain": [
       "<IPython.core.display.Image object>"
      ]
     },
     "execution_count": 29,
     "metadata": {},
     "output_type": "execute_result"
    }
   ],
   "source": [
    "#here is the critical values tablel. Have you chosen your significance level yet?? you should do it first thing!\n",
    "Image(filename=\"ks2sample_table.png\")"
   ]
  },
  {
   "cell_type": "markdown",
   "metadata": {},
   "source": [
    "Now redo the test with a subsample of the data: take only 1 ride every of 200"
   ]
  },
  {
   "cell_type": "code",
   "execution_count": 43,
   "metadata": {
    "collapsed": false
   },
   "outputs": [
    {
     "data": {
      "text/html": [
       "<div>\n",
       "<table border=\"1\" class=\"dataframe\">\n",
       "  <thead>\n",
       "    <tr style=\"text-align: right;\">\n",
       "      <th></th>\n",
       "      <th>tripduration</th>\n",
       "      <th>start station id</th>\n",
       "      <th>start station name</th>\n",
       "      <th>start station latitude</th>\n",
       "      <th>start station longitude</th>\n",
       "      <th>end station id</th>\n",
       "      <th>end station name</th>\n",
       "      <th>end station latitude</th>\n",
       "      <th>end station longitude</th>\n",
       "      <th>bikeid</th>\n",
       "      <th>birth year</th>\n",
       "      <th>gender</th>\n",
       "      <th>ageM</th>\n",
       "      <th>ageF</th>\n",
       "    </tr>\n",
       "  </thead>\n",
       "  <tbody>\n",
       "    <tr>\n",
       "      <th>0</th>\n",
       "      <td>1202</td>\n",
       "      <td>168</td>\n",
       "      <td>W 18 St &amp; 6 Ave</td>\n",
       "      <td>40.739713</td>\n",
       "      <td>-73.994564</td>\n",
       "      <td>385</td>\n",
       "      <td>E 55 St &amp; 2 Ave</td>\n",
       "      <td>40.757973</td>\n",
       "      <td>-73.966033</td>\n",
       "      <td>23253</td>\n",
       "      <td>1987.0</td>\n",
       "      <td>1</td>\n",
       "      <td>28.0</td>\n",
       "      <td>NaN</td>\n",
       "    </tr>\n",
       "    <tr>\n",
       "      <th>180</th>\n",
       "      <td>956</td>\n",
       "      <td>528</td>\n",
       "      <td>2 Ave &amp; E 31 St</td>\n",
       "      <td>40.742909</td>\n",
       "      <td>-73.977061</td>\n",
       "      <td>301</td>\n",
       "      <td>E 2 St &amp; Avenue B</td>\n",
       "      <td>40.722174</td>\n",
       "      <td>-73.983688</td>\n",
       "      <td>15937</td>\n",
       "      <td>NaN</td>\n",
       "      <td>0</td>\n",
       "      <td>NaN</td>\n",
       "      <td>NaN</td>\n",
       "    </tr>\n",
       "    <tr>\n",
       "      <th>360</th>\n",
       "      <td>649</td>\n",
       "      <td>428</td>\n",
       "      <td>E 3 St &amp; 1 Ave</td>\n",
       "      <td>40.724677</td>\n",
       "      <td>-73.987834</td>\n",
       "      <td>297</td>\n",
       "      <td>E 15 St &amp; 3 Ave</td>\n",
       "      <td>40.734232</td>\n",
       "      <td>-73.986923</td>\n",
       "      <td>16471</td>\n",
       "      <td>1991.0</td>\n",
       "      <td>2</td>\n",
       "      <td>NaN</td>\n",
       "      <td>24.0</td>\n",
       "    </tr>\n",
       "    <tr>\n",
       "      <th>540</th>\n",
       "      <td>1386</td>\n",
       "      <td>401</td>\n",
       "      <td>Allen St &amp; Rivington St</td>\n",
       "      <td>40.720196</td>\n",
       "      <td>-73.989978</td>\n",
       "      <td>305</td>\n",
       "      <td>E 58 St &amp; 3 Ave</td>\n",
       "      <td>40.760958</td>\n",
       "      <td>-73.967245</td>\n",
       "      <td>22682</td>\n",
       "      <td>1988.0</td>\n",
       "      <td>1</td>\n",
       "      <td>27.0</td>\n",
       "      <td>NaN</td>\n",
       "    </tr>\n",
       "    <tr>\n",
       "      <th>720</th>\n",
       "      <td>1897</td>\n",
       "      <td>512</td>\n",
       "      <td>W 29 St &amp; 9 Ave</td>\n",
       "      <td>40.750073</td>\n",
       "      <td>-73.998393</td>\n",
       "      <td>2021</td>\n",
       "      <td>W 45 St &amp; 8 Ave</td>\n",
       "      <td>40.759291</td>\n",
       "      <td>-73.988597</td>\n",
       "      <td>17848</td>\n",
       "      <td>1988.0</td>\n",
       "      <td>2</td>\n",
       "      <td>NaN</td>\n",
       "      <td>27.0</td>\n",
       "    </tr>\n",
       "  </tbody>\n",
       "</table>\n",
       "</div>"
      ],
      "text/plain": [
       "     tripduration  start station id       start station name  \\\n",
       "0            1202               168          W 18 St & 6 Ave   \n",
       "180           956               528          2 Ave & E 31 St   \n",
       "360           649               428           E 3 St & 1 Ave   \n",
       "540          1386               401  Allen St & Rivington St   \n",
       "720          1897               512          W 29 St & 9 Ave   \n",
       "\n",
       "     start station latitude  start station longitude  end station id  \\\n",
       "0                 40.739713               -73.994564             385   \n",
       "180               40.742909               -73.977061             301   \n",
       "360               40.724677               -73.987834             297   \n",
       "540               40.720196               -73.989978             305   \n",
       "720               40.750073               -73.998393            2021   \n",
       "\n",
       "      end station name  end station latitude  end station longitude  bikeid  \\\n",
       "0      E 55 St & 2 Ave             40.757973             -73.966033   23253   \n",
       "180  E 2 St & Avenue B             40.722174             -73.983688   15937   \n",
       "360    E 15 St & 3 Ave             40.734232             -73.986923   16471   \n",
       "540    E 58 St & 3 Ave             40.760958             -73.967245   22682   \n",
       "720    W 45 St & 8 Ave             40.759291             -73.988597   17848   \n",
       "\n",
       "     birth year  gender  ageM  ageF  \n",
       "0        1987.0       1  28.0   NaN  \n",
       "180         NaN       0   NaN   NaN  \n",
       "360      1991.0       2   NaN  24.0  \n",
       "540      1988.0       1  27.0   NaN  \n",
       "720      1988.0       2   NaN  27.0  "
      ]
     },
     "execution_count": 43,
     "metadata": {},
     "output_type": "execute_result"
    }
   ],
   "source": [
    "## your words here!...\n",
    "## this cell is for you to redo the test with reducted dataset \n",
    "## and tell me what the scipy KS test returned and what it means in terms of NULL HYPOTHESIS\n",
    "## subset of every 1 of 200, the ageF is all NAN, so I change to every 1 of 180 \n",
    "subdata = data.loc[::180,:]\n",
    "subdata.head()"
   ]
  },
  {
   "cell_type": "code",
   "execution_count": 44,
   "metadata": {
    "collapsed": false
   },
   "outputs": [
    {
     "data": {
      "text/plain": [
       "<matplotlib.text.Text at 0x7f8a1de25510>"
      ]
     },
     "execution_count": 44,
     "metadata": {},
     "output_type": "execute_result"
    },
    {
     "data": {
      "image/png": "[encoded data removed]",
      "text/plain": [
       "<matplotlib.figure.Figure at 0x7f89e9ca84d0>"
      ]
     },
     "metadata": {},
     "output_type": "display_data"
    },
    {
     "data": {
      "image/png": "[encoded data removed]",
      "text/plain": [
       "<matplotlib.figure.Figure at 0x7f8a26ce30d0>"
      ]
     },
     "metadata": {},
     "output_type": "display_data"
    }
   ],
   "source": [
    "bins = np.arange(10, 99, 5)\n",
    "axM = subdata.ageM.groupby(pd.cut(subdata.ageM, bins)).agg([count_nonzero]).plot(kind='bar', \n",
    "                                                                legend=False)\n",
    "axM.set_title(\"male riders\")\n",
    "axF = subdata.ageF.groupby(pd.cut(subdata.ageF, bins)).agg([count_nonzero]).plot(kind='bar',\n",
    "                                                                legend=False)\n",
    "axF.set_title(\"female riders\")"
   ]
  },
  {
   "cell_type": "code",
   "execution_count": 45,
   "metadata": {
    "collapsed": false
   },
   "outputs": [
    {
     "name": "stdout",
     "output_type": "stream",
     "text": [
      "          count_nonzero\n",
      "ageM                   \n",
      "(10, 15]       0.000000\n",
      "(15, 20]       0.005971\n",
      "(20, 25]       0.034979\n",
      "(25, 30]       0.074308\n",
      "(30, 35]       0.085743\n",
      "(35, 40]       0.047202\n",
      "(40, 45]       0.026118\n",
      "(45, 50]       0.014663\n",
      "(50, 55]       0.022262\n",
      "(55, 60]       0.008470\n",
      "(60, 65]       0.005045\n",
      "(65, 70]       0.002582\n",
      "(70, 75]       0.000272\n",
      "(75, 80]       0.000739\n",
      "(80, 85]       0.000739\n",
      "(85, 90]       0.000000\n",
      "(90, 95]       0.000000\n"
     ]
    },
    {
     "data": {
      "text/plain": [
       "<matplotlib.legend.Legend at 0x7f8a1dcbce50>"
      ]
     },
     "execution_count": 45,
     "metadata": {},
     "output_type": "execute_result"
    },
    {
     "data": {
      "image/png": "[encoded data removed]",
      "text/plain": [
       "<matplotlib.figure.Figure at 0x7f89e6e4f610>"
      ]
     },
     "metadata": {},
     "output_type": "display_data"
    }
   ],
   "source": [
    "csM= subdata.ageM.groupby(pd.cut(subdata.ageM, bins)).agg([count_nonzero]).cumsum()\n",
    "\n",
    "csF= subdata.ageF.groupby(pd.cut(subdata.ageF, bins)).agg([count_nonzero]).cumsum()\n",
    "\n",
    "print (np.abs(csM / csM.max()-csF / csF.max()))\n",
    "\n",
    "pl.plot(bins[:-1] + 5, csM / csM.max(), label = \"M\")\n",
    "pl.plot(bins[:-1] + 5, csF / csF.max(), label = \"F\")\n",
    "pl.plot(bins[:-1] + 5, np.sqrt(csF / csF.max() - csM / csM.max())**2, 'k-',\n",
    "        label = \"difference\")\n",
    "pl.xlabel(\"Age\")\n",
    "pl.ylabel(\"Normalized Cumulative Number\")\n",
    "pl.legend()"
   ]
  },
  {
   "cell_type": "code",
   "execution_count": 46,
   "metadata": {
    "collapsed": false
   },
   "outputs": [
    {
     "data": {
      "text/html": [
       "<div>\n",
       "<table border=\"1\" class=\"dataframe\">\n",
       "  <thead>\n",
       "    <tr style=\"text-align: right;\">\n",
       "      <th></th>\n",
       "      <th>tripduration</th>\n",
       "      <th>start station id</th>\n",
       "      <th>start station name</th>\n",
       "      <th>start station latitude</th>\n",
       "      <th>start station longitude</th>\n",
       "      <th>end station id</th>\n",
       "      <th>end station name</th>\n",
       "      <th>end station latitude</th>\n",
       "      <th>end station longitude</th>\n",
       "      <th>bikeid</th>\n",
       "      <th>birth year</th>\n",
       "      <th>gender</th>\n",
       "      <th>ageM</th>\n",
       "      <th>ageF</th>\n",
       "    </tr>\n",
       "  </thead>\n",
       "  <tbody>\n",
       "    <tr>\n",
       "      <th>0</th>\n",
       "      <td>1202</td>\n",
       "      <td>168</td>\n",
       "      <td>W 18 St &amp; 6 Ave</td>\n",
       "      <td>40.739713</td>\n",
       "      <td>-73.994564</td>\n",
       "      <td>385</td>\n",
       "      <td>E 55 St &amp; 2 Ave</td>\n",
       "      <td>40.757973</td>\n",
       "      <td>-73.966033</td>\n",
       "      <td>23253</td>\n",
       "      <td>1987.0</td>\n",
       "      <td>1</td>\n",
       "      <td>28.0</td>\n",
       "      <td>NaN</td>\n",
       "    </tr>\n",
       "    <tr>\n",
       "      <th>360</th>\n",
       "      <td>649</td>\n",
       "      <td>428</td>\n",
       "      <td>E 3 St &amp; 1 Ave</td>\n",
       "      <td>40.724677</td>\n",
       "      <td>-73.987834</td>\n",
       "      <td>297</td>\n",
       "      <td>E 15 St &amp; 3 Ave</td>\n",
       "      <td>40.734232</td>\n",
       "      <td>-73.986923</td>\n",
       "      <td>16471</td>\n",
       "      <td>1991.0</td>\n",
       "      <td>2</td>\n",
       "      <td>NaN</td>\n",
       "      <td>24.0</td>\n",
       "    </tr>\n",
       "    <tr>\n",
       "      <th>540</th>\n",
       "      <td>1386</td>\n",
       "      <td>401</td>\n",
       "      <td>Allen St &amp; Rivington St</td>\n",
       "      <td>40.720196</td>\n",
       "      <td>-73.989978</td>\n",
       "      <td>305</td>\n",
       "      <td>E 58 St &amp; 3 Ave</td>\n",
       "      <td>40.760958</td>\n",
       "      <td>-73.967245</td>\n",
       "      <td>22682</td>\n",
       "      <td>1988.0</td>\n",
       "      <td>1</td>\n",
       "      <td>27.0</td>\n",
       "      <td>NaN</td>\n",
       "    </tr>\n",
       "    <tr>\n",
       "      <th>720</th>\n",
       "      <td>1897</td>\n",
       "      <td>512</td>\n",
       "      <td>W 29 St &amp; 9 Ave</td>\n",
       "      <td>40.750073</td>\n",
       "      <td>-73.998393</td>\n",
       "      <td>2021</td>\n",
       "      <td>W 45 St &amp; 8 Ave</td>\n",
       "      <td>40.759291</td>\n",
       "      <td>-73.988597</td>\n",
       "      <td>17848</td>\n",
       "      <td>1988.0</td>\n",
       "      <td>2</td>\n",
       "      <td>NaN</td>\n",
       "      <td>27.0</td>\n",
       "    </tr>\n",
       "    <tr>\n",
       "      <th>1080</th>\n",
       "      <td>788</td>\n",
       "      <td>460</td>\n",
       "      <td>S 4 St &amp; Wythe Ave</td>\n",
       "      <td>40.712859</td>\n",
       "      <td>-73.965903</td>\n",
       "      <td>244</td>\n",
       "      <td>Willoughby Ave &amp; Hall St</td>\n",
       "      <td>40.691960</td>\n",
       "      <td>-73.965369</td>\n",
       "      <td>24255</td>\n",
       "      <td>1981.0</td>\n",
       "      <td>1</td>\n",
       "      <td>34.0</td>\n",
       "      <td>NaN</td>\n",
       "    </tr>\n",
       "  </tbody>\n",
       "</table>\n",
       "</div>"
      ],
      "text/plain": [
       "      tripduration  start station id       start station name  \\\n",
       "0             1202               168          W 18 St & 6 Ave   \n",
       "360            649               428           E 3 St & 1 Ave   \n",
       "540           1386               401  Allen St & Rivington St   \n",
       "720           1897               512          W 29 St & 9 Ave   \n",
       "1080           788               460       S 4 St & Wythe Ave   \n",
       "\n",
       "      start station latitude  start station longitude  end station id  \\\n",
       "0                  40.739713               -73.994564             385   \n",
       "360                40.724677               -73.987834             297   \n",
       "540                40.720196               -73.989978             305   \n",
       "720                40.750073               -73.998393            2021   \n",
       "1080               40.712859               -73.965903             244   \n",
       "\n",
       "              end station name  end station latitude  end station longitude  \\\n",
       "0              E 55 St & 2 Ave             40.757973             -73.966033   \n",
       "360            E 15 St & 3 Ave             40.734232             -73.986923   \n",
       "540            E 58 St & 3 Ave             40.760958             -73.967245   \n",
       "720            W 45 St & 8 Ave             40.759291             -73.988597   \n",
       "1080  Willoughby Ave & Hall St             40.691960             -73.965369   \n",
       "\n",
       "      bikeid  birth year  gender  ageM  ageF  \n",
       "0      23253      1987.0       1  28.0   NaN  \n",
       "360    16471      1991.0       2   NaN  24.0  \n",
       "540    22682      1988.0       1  27.0   NaN  \n",
       "720    17848      1988.0       2   NaN  27.0  \n",
       "1080   24255      1981.0       1  34.0   NaN  "
      ]
     },
     "execution_count": 46,
     "metadata": {},
     "output_type": "execute_result"
    }
   ],
   "source": [
    "subdata = subdata.dropna(subset=['birth year'])\n",
    "subdata.head()"
   ]
  },
  {
   "cell_type": "code",
   "execution_count": 48,
   "metadata": {
    "collapsed": false
   },
   "outputs": [
    {
     "name": "stdout",
     "output_type": "stream",
     "text": [
      "Ks_2sampResult(statistic=0.11573706560792094, pvalue=0.0)\n"
     ]
    }
   ],
   "source": [
    "ks2 = scipy.stats.ks_2samp(df.ageM, df.ageF)\n",
    "print ks2"
   ]
  },
  {
   "cell_type": "code",
   "execution_count": 49,
   "metadata": {
    "collapsed": true
   },
   "outputs": [],
   "source": [
    "## So this time the KS test result is still zero. Null hypothesis should be rejected\n",
    "## The age distribution is different among man and woman\n",
    "## at least in hot month, like July or August, it is so"
   ]
  },
  {
   "cell_type": "markdown",
   "metadata": {},
   "source": [
    "Pearson's test for correlation"
   ]
  },
  {
   "cell_type": "markdown",
   "metadata": {},
   "source": [
    "Null Hypothesis: No correlation between man and woman's age distribution"
   ]
  },
  {
   "cell_type": "markdown",
   "metadata": {},
   "source": [
    "Alternative Hypothesis: Correlation between man and woman's age distribution"
   ]
  },
  {
   "cell_type": "markdown",
   "metadata": {},
   "source": [
    "Significance Level is 0.05"
   ]
  },
  {
   "cell_type": "code",
   "execution_count": 52,
   "metadata": {
    "collapsed": false
   },
   "outputs": [],
   "source": [
    "# your code here!\n",
    "# wrangle the data as needed\n",
    "# please perform the Pearson's test \n",
    "# and tell me what you find in terms of NULL hypothesis\n",
    "data.head() # this is my dataset\n",
    "bins = np.arange(10, 99, 5)"
   ]
  },
  {
   "cell_type": "code",
   "execution_count": 59,
   "metadata": {
    "collapsed": false
   },
   "outputs": [],
   "source": [
    "axM = data.ageM.groupby(pd.cut(df.ageM, bins)).agg([count_nonzero])\n",
    "axF =data.ageF.groupby(pd.cut(df.ageF, bins)).agg([count_nonzero])\n",
    "\n",
    "dis_M = list(axM.count_nonzero)\n",
    "dis_F = list(axF.count_nonzero)"
   ]
  },
  {
   "cell_type": "code",
   "execution_count": 60,
   "metadata": {
    "collapsed": true
   },
   "outputs": [],
   "source": [
    "dis_M = dis_M / np.sum(dis_M)\n",
    "dis_F = dis_F / np.sum(dis_F)"
   ]
  },
  {
   "cell_type": "code",
   "execution_count": 62,
   "metadata": {
    "collapsed": false
   },
   "outputs": [
    {
     "name": "stdout",
     "output_type": "stream",
     "text": [
      "Pearson Test Result is:  (0.97574395359496413, 2.6313464287974164e-11)\n"
     ]
    }
   ],
   "source": [
    "pearson = scipy.stats.pearsonr(dis_M,dis_F)\n",
    "print 'Pearson Test Result is: ', pearson"
   ]
  },
  {
   "cell_type": "markdown",
   "metadata": {},
   "source": [
    "Since the p value is still small, while the coefficient is 0.98, we can reject the Null Hypothesis, and say that there exist correlation between man and woman's age distribution"
   ]
  },
  {
   "cell_type": "markdown",
   "metadata": {},
   "source": [
    "Spearman's test for correlation"
   ]
  },
  {
   "cell_type": "markdown",
   "metadata": {},
   "source": [
    "Null Hypothesis: No correlation between man and woman's age distribution"
   ]
  },
  {
   "cell_type": "markdown",
   "metadata": {},
   "source": [
    "Alternative Hypothesis: Correlation between man and woman's age distribution"
   ]
  },
  {
   "cell_type": "markdown",
   "metadata": {},
   "source": [
    "Significance Level is 0.05"
   ]
  },
  {
   "cell_type": "code",
   "execution_count": 64,
   "metadata": {
    "collapsed": false
   },
   "outputs": [
    {
     "data": {
      "text/plain": [
       "SpearmanrResult(correlation=0.9785276073619632, pvalue=1.0632380786744078e-11)"
      ]
     },
     "execution_count": 64,
     "metadata": {},
     "output_type": "execute_result"
    }
   ],
   "source": [
    "# your code here!\n",
    "# wrangle the data as needed\n",
    "# please perform the Spearman's test and tell me what you find in terms of NULL hypothesis\n",
    "spearman = scipy.stats.spearmanr(dis_M,dis_F)\n",
    "spearman"
   ]
  },
  {
   "cell_type": "markdown",
   "metadata": {},
   "source": [
    "Since the p value is still small, while the coefficient is 0.98, we can reject the Null Hypothesis, and say that there exist correlation between man and woman's age distribution"
   ]
  }
 ],
 "metadata": {
  "kernelspec": {
   "display_name": "PUI2016_Python2",
   "language": "python",
   "name": "pui2016_python2"
  },
  "language_info": {
   "codemirror_mode": {
    "name": "ipython",
    "version": 2
   },
   "file_extension": ".py",
   "mimetype": "text/x-python",
   "name": "python",
   "nbconvert_exporter": "python",
   "pygments_lexer": "ipython2",
   "version": "2.7.12"
  }
 },
 "nbformat": 4,
 "nbformat_minor": 0
}
